{
  "nbformat": 4,
  "nbformat_minor": 0,
  "metadata": {
    "kernelspec": {
      "language": "python",
      "display_name": "Python 3",
      "name": "python3"
    },
    "language_info": {
      "name": "python",
      "version": "3.7.10",
      "mimetype": "text/x-python",
      "codemirror_mode": {
        "name": "ipython",
        "version": 3
      },
      "pygments_lexer": "ipython3",
      "nbconvert_exporter": "python",
      "file_extension": ".py"
    },
    "colab": {
      "name": "Cifar10_VGG16.ipynb",
      "provenance": [],
      "collapsed_sections": []
    },
    "accelerator": "GPU"
  },
  "cells": [
    {
      "cell_type": "code",
      "metadata": {
        "id": "96Le55j8l3T8",
        "execution": {
          "iopub.status.busy": "2021-11-01T08:44:22.714897Z",
          "iopub.execute_input": "2021-11-01T08:44:22.715166Z",
          "iopub.status.idle": "2021-11-01T08:44:23.518984Z",
          "shell.execute_reply.started": "2021-11-01T08:44:22.715134Z",
          "shell.execute_reply": "2021-11-01T08:44:23.518150Z"
        },
        "trusted": true,
        "colab": {
          "base_uri": "https://localhost:8080/"
        },
        "outputId": "513937df-54fb-4908-b53d-eacb66fd3f7c"
      },
      "source": [
        "!nvidia-smi"
      ],
      "execution_count": null,
      "outputs": [
        {
          "output_type": "stream",
          "name": "stdout",
          "text": [
            "Tue Nov  2 12:11:10 2021       \n",
            "+-----------------------------------------------------------------------------+\n",
            "| NVIDIA-SMI 495.29.05    Driver Version: 460.32.03    CUDA Version: 11.2     |\n",
            "|-------------------------------+----------------------+----------------------+\n",
            "| GPU  Name        Persistence-M| Bus-Id        Disp.A | Volatile Uncorr. ECC |\n",
            "| Fan  Temp  Perf  Pwr:Usage/Cap|         Memory-Usage | GPU-Util  Compute M. |\n",
            "|                               |                      |               MIG M. |\n",
            "|===============================+======================+======================|\n",
            "|   0  Tesla K80           Off  | 00000000:00:04.0 Off |                    0 |\n",
            "| N/A   37C    P8    28W / 149W |      0MiB / 11441MiB |      0%      Default |\n",
            "|                               |                      |                  N/A |\n",
            "+-------------------------------+----------------------+----------------------+\n",
            "                                                                               \n",
            "+-----------------------------------------------------------------------------+\n",
            "| Processes:                                                                  |\n",
            "|  GPU   GI   CI        PID   Type   Process name                  GPU Memory |\n",
            "|        ID   ID                                                   Usage      |\n",
            "|=============================================================================|\n",
            "|  No running processes found                                                 |\n",
            "+-----------------------------------------------------------------------------+\n"
          ]
        }
      ]
    },
    {
      "cell_type": "code",
      "metadata": {
        "id": "Fo9bbNuy9d1L",
        "colab": {
          "base_uri": "https://localhost:8080/"
        },
        "outputId": "826644d6-0931-442f-e3bd-ed2ce0926388"
      },
      "source": [
        "from google.colab import drive\n",
        "drive.mount('/content/drvie')"
      ],
      "execution_count": null,
      "outputs": [
        {
          "output_type": "stream",
          "name": "stdout",
          "text": [
            "Mounted at /content/drvie\n"
          ]
        }
      ]
    },
    {
      "cell_type": "code",
      "metadata": {
        "id": "DclDjSnd-i0i",
        "execution": {
          "iopub.status.busy": "2021-11-01T08:44:25.731579Z",
          "iopub.execute_input": "2021-11-01T08:44:25.732335Z",
          "iopub.status.idle": "2021-11-01T08:44:25.739808Z",
          "shell.execute_reply.started": "2021-11-01T08:44:25.732293Z",
          "shell.execute_reply": "2021-11-01T08:44:25.739018Z"
        },
        "trusted": true
      },
      "source": [
        "from keras.datasets import cifar10\n",
        "from keras.layers import Flatten, Dense\n",
        "from keras.models import Model\n",
        "from keras.applications.vgg16 import VGG16\n",
        "from keras.applications.vgg16 import preprocess_input as preprocess_input_16\n",
        "from keras.applications.vgg19 import VGG19\n",
        "from keras.applications.vgg19 import preprocess_input as preprocess_input_19\n",
        "from keras import metrics\n",
        "from tensorflow.keras.callbacks import ModelCheckpoint\n",
        "from tensorflow.keras.utils import to_categorical\n",
        "from sklearn.model_selection import train_test_split\n",
        "from sklearn.metrics import classification_report\n",
        "from skimage.transform import resize\n",
        "import seaborn as sns\n",
        "from keras.models import load_model\n",
        "from tensorflow.keras.optimizers import SGD\n",
        "from sklearn.manifold import TSNE\n",
        "import pickle"
      ],
      "execution_count": null,
      "outputs": []
    },
    {
      "cell_type": "markdown",
      "metadata": {
        "id": "EGNjzVNTK0Xz"
      },
      "source": [
        "**1.1 Import Data**"
      ]
    },
    {
      "cell_type": "code",
      "metadata": {
        "id": "UbxMFdvfCLPk",
        "execution": {
          "iopub.status.busy": "2021-11-01T09:00:26.998044Z",
          "iopub.execute_input": "2021-11-01T09:00:26.998321Z",
          "iopub.status.idle": "2021-11-01T09:00:28.060645Z",
          "shell.execute_reply.started": "2021-11-01T09:00:26.998291Z",
          "shell.execute_reply": "2021-11-01T09:00:28.059943Z"
        },
        "trusted": true,
        "colab": {
          "base_uri": "https://localhost:8080/",
          "height": 387
        },
        "outputId": "ac7dabd2-5394-4645-b369-26a0612be53c"
      },
      "source": [
        "# load cifar-10 dataset\n",
        "(x_train, y_train), (x_val, y_val) = cifar10.load_data()\n",
        "# val test split\n",
        "x_val, x_test, y_val, y_test = train_test_split(x_val, y_val, test_size=0.5) \n",
        "\n",
        "# dist original data\n",
        "sns.distplot(x_train[0].reshape(1, -1))"
      ],
      "execution_count": null,
      "outputs": [
        {
          "output_type": "stream",
          "name": "stdout",
          "text": [
            "Downloading data from https://www.cs.toronto.edu/~kriz/cifar-10-python.tar.gz\n",
            "170500096/170498071 [==============================] - 2s 0us/step\n",
            "170508288/170498071 [==============================] - 2s 0us/step\n"
          ]
        },
        {
          "output_type": "stream",
          "name": "stderr",
          "text": [
            "/usr/local/lib/python3.7/dist-packages/seaborn/distributions.py:2619: FutureWarning: `distplot` is a deprecated function and will be removed in a future version. Please adapt your code to use either `displot` (a figure-level function with similar flexibility) or `histplot` (an axes-level function for histograms).\n",
            "  warnings.warn(msg, FutureWarning)\n"
          ]
        },
        {
          "output_type": "execute_result",
          "data": {
            "text/plain": [
              "<matplotlib.axes._subplots.AxesSubplot at 0x7f1a32b3ef10>"
            ]
          },
          "metadata": {},
          "execution_count": 5
        },
        {
          "output_type": "display_data",
          "data": {
            "image/png": "[encoded data removed]",
            "text/plain": [
              "<Figure size 432x288 with 1 Axes>"
            ]
          },
          "metadata": {
            "needs_background": "light"
          }
        }
      ]
    },
    {
      "cell_type": "code",
      "metadata": {
        "id": "tKON7RKXFWM7",
        "execution": {
          "iopub.status.busy": "2021-11-01T09:00:32.916926Z",
          "iopub.execute_input": "2021-11-01T09:00:32.917201Z",
          "iopub.status.idle": "2021-11-01T09:00:33.100760Z",
          "shell.execute_reply.started": "2021-11-01T09:00:32.917168Z",
          "shell.execute_reply": "2021-11-01T09:00:33.099983Z"
        },
        "trusted": true
      },
      "source": [
        "# preprocessing\n",
        "x_train = preprocess_input_16(x_train)\n",
        "x_val = preprocess_input_16(x_val)\n",
        "x_test = preprocess_input_16(x_test)\n",
        "# encoding labal\n",
        "y_train = to_categorical(y_train, 10)\n",
        "y_val = to_categorical(y_val, 10)"
      ],
      "execution_count": null,
      "outputs": []
    },
    {
      "cell_type": "code",
      "metadata": {
        "id": "Qnqs6zSSEBpp",
        "execution": {
          "iopub.status.busy": "2021-11-01T09:00:34.514055Z",
          "iopub.execute_input": "2021-11-01T09:00:34.514365Z",
          "iopub.status.idle": "2021-11-01T09:00:34.526309Z",
          "shell.execute_reply.started": "2021-11-01T09:00:34.514330Z",
          "shell.execute_reply": "2021-11-01T09:00:34.525645Z"
        },
        "trusted": true,
        "colab": {
          "base_uri": "https://localhost:8080/"
        },
        "outputId": "b72af8de-44fa-4abb-d5bb-a789815e7650"
      },
      "source": [
        "# shape of train-val-test data\n",
        "print(\"Shape x_train = {}, y_train = {}\".format(x_train.shape, y_train.shape))\n",
        "print(\"Shape x_val = {}, y_val = {}\".format(x_val.shape, y_val.shape))\n",
        "print(\"Shape x_test = {}, y_test = {}\".format(x_test.shape, y_test.shape))"
      ],
      "execution_count": null,
      "outputs": [
        {
          "output_type": "stream",
          "name": "stdout",
          "text": [
            "Shape x_train = (50000, 32, 32, 3), y_train = (50000, 10)\n",
            "Shape x_val = (6000, 32, 32, 3), y_val = (6000, 10)\n",
            "Shape x_test = (4000, 32, 32, 3), y_test = (4000, 1)\n"
          ]
        }
      ]
    },
    {
      "cell_type": "code",
      "metadata": {
        "id": "PdD0Sko5GStV",
        "execution": {
          "iopub.status.busy": "2021-11-01T09:00:38.311059Z",
          "iopub.execute_input": "2021-11-01T09:00:38.311930Z",
          "iopub.status.idle": "2021-11-01T09:00:38.607883Z",
          "shell.execute_reply.started": "2021-11-01T09:00:38.311894Z",
          "shell.execute_reply": "2021-11-01T09:00:38.607216Z"
        },
        "trusted": true,
        "colab": {
          "base_uri": "https://localhost:8080/",
          "height": 336
        },
        "outputId": "2fba0a23-ae5a-4f65-df17-cf7e0c0fb01e"
      },
      "source": [
        "# data after preprocessing\n",
        "sns.distplot(x_train[0].reshape(1, -1))"
      ],
      "execution_count": null,
      "outputs": [
        {
          "output_type": "stream",
          "name": "stderr",
          "text": [
            "/usr/local/lib/python3.7/dist-packages/seaborn/distributions.py:2619: FutureWarning: `distplot` is a deprecated function and will be removed in a future version. Please adapt your code to use either `displot` (a figure-level function with similar flexibility) or `histplot` (an axes-level function for histograms).\n",
            "  warnings.warn(msg, FutureWarning)\n"
          ]
        },
        {
          "output_type": "execute_result",
          "data": {
            "text/plain": [
              "<matplotlib.axes._subplots.AxesSubplot at 0x7f1a2d19ca90>"
            ]
          },
          "metadata": {},
          "execution_count": 8
        },
        {
          "output_type": "display_data",
          "data": {
            "image/png": "[encoded data removed]",
            "text/plain": [
              "<Figure size 432x288 with 1 Axes>"
            ]
          },
          "metadata": {
            "needs_background": "light"
          }
        }
      ]
    },
    {
      "cell_type": "markdown",
      "metadata": {
        "id": "83pbw_UsK6Gg"
      },
      "source": [
        "**1.2 VGG16**"
      ]
    },
    {
      "cell_type": "code",
      "metadata": {
        "id": "DARlsv3hNLG8",
        "execution": {
          "iopub.status.busy": "2021-11-01T08:50:46.800147Z",
          "iopub.execute_input": "2021-11-01T08:50:46.800403Z",
          "iopub.status.idle": "2021-11-01T08:50:46.807040Z",
          "shell.execute_reply.started": "2021-11-01T08:50:46.800374Z",
          "shell.execute_reply": "2021-11-01T08:50:46.806344Z"
        },
        "trusted": true
      },
      "source": [
        "def build_model(base_model):\n",
        "  # freeze base model\n",
        "#  base_model.trainable = False\n",
        "#  for layer in base_model.layers[-2:-1]:\n",
        "#    layer.trainable = True\n",
        "  # Dense flatten - 512 - 10 \n",
        "  flatten = Flatten()(base_model.output)\n",
        "  dense_01 = Dense(512, 'relu')(flatten)\n",
        "  #dense_02 = Dense(512, 'relu')(dense_01)\n",
        "  ouput_layer = Dense(10, 'softmax')(dense_01)\n",
        "  model = Model(inputs = base_model.inputs, outputs = ouput_layer)\n",
        "  # setup optimize and training\n",
        "  model.compile(optimizer=SGD(learning_rate=0.001), loss='categorical_crossentropy', metrics= 'categorical_accuracy')\n",
        "  return model"
      ],
      "execution_count": null,
      "outputs": []
    },
    {
      "cell_type": "code",
      "metadata": {
        "id": "06jdzXEMUWaG",
        "execution": {
          "iopub.status.busy": "2021-11-01T08:50:25.195409Z",
          "iopub.execute_input": "2021-11-01T08:50:25.195966Z",
          "iopub.status.idle": "2021-11-01T08:50:25.200241Z",
          "shell.execute_reply.started": "2021-11-01T08:50:25.195928Z",
          "shell.execute_reply": "2021-11-01T08:50:25.199504Z"
        },
        "trusted": true
      },
      "source": [
        "def check_point(checkpoint_filepath):\n",
        "  model_checkpoint_callback=ModelCheckpoint(\n",
        "  filepath=checkpoint_filepath,\n",
        "  save_weights_only=True,\n",
        "  monitor='val_loss',\n",
        "  mode='min',\n",
        "  save_best_only=True)\n",
        "  return model_checkpoint_callback"
      ],
      "execution_count": null,
      "outputs": []
    },
    {
      "cell_type": "code",
      "metadata": {
        "execution": {
          "iopub.status.busy": "2021-11-01T08:44:53.736774Z",
          "iopub.execute_input": "2021-11-01T08:44:53.737294Z",
          "iopub.status.idle": "2021-11-01T08:44:54.489195Z",
          "shell.execute_reply.started": "2021-11-01T08:44:53.737258Z",
          "shell.execute_reply": "2021-11-01T08:44:54.488234Z"
        },
        "trusted": true,
        "id": "lUQHCpJ_3yCi"
      },
      "source": [
        "!mkdir vgg16-keras-32"
      ],
      "execution_count": null,
      "outputs": []
    },
    {
      "cell_type": "code",
      "metadata": {
        "id": "xDDc-5UTGwgp",
        "execution": {
          "iopub.status.busy": "2021-11-01T08:50:52.908234Z",
          "iopub.execute_input": "2021-11-01T08:50:52.908513Z",
          "iopub.status.idle": "2021-11-01T08:50:53.221862Z",
          "shell.execute_reply.started": "2021-11-01T08:50:52.908466Z",
          "shell.execute_reply": "2021-11-01T08:50:53.219410Z"
        },
        "trusted": true
      },
      "source": [
        "# VGG16\n",
        "base_vgg16 = VGG16(include_top=False, input_shape=(32, 32, 3))\n",
        "vgg16 = build_model(base_vgg16)\n",
        "vgg16.summary()\n",
        "\n",
        "# traing\n",
        "checkpoint_filepath_vgg16 = './drvie/MyDrive/CS231.M13.KHCL/workingspace/taicv/vgg16-keras-32/best-weights.hdf5'\n",
        "#checkpoint\n",
        "model_checkpoint_callback_vgg16 = check_point(checkpoint_filepath_vgg16)"
      ],
      "execution_count": null,
      "outputs": []
    },
    {
      "cell_type": "markdown",
      "metadata": {
        "id": "-cGgW4iX3yCj"
      },
      "source": [
        "**1.3 Training**"
      ]
    },
    {
      "cell_type": "code",
      "metadata": {
        "id": "8ijkwKDDK_vk",
        "execution": {
          "iopub.status.busy": "2021-11-01T08:50:59.818988Z",
          "iopub.execute_input": "2021-11-01T08:50:59.819247Z",
          "iopub.status.idle": "2021-11-01T08:54:24.546937Z",
          "shell.execute_reply.started": "2021-11-01T08:50:59.819219Z",
          "shell.execute_reply": "2021-11-01T08:54:24.546230Z"
        },
        "trusted": true
      },
      "source": [
        "#training VGG16\n",
        "vgg16.fit(x_train, y_train, batch_size=512, epochs=20, validation_data=(x_val, y_val), callbacks=[model_checkpoint_callback_vgg16])"
      ],
      "execution_count": null,
      "outputs": []
    },
    {
      "cell_type": "code",
      "metadata": {
        "id": "_h_uNDhkL62X",
        "execution": {
          "iopub.status.busy": "2021-11-01T08:54:31.083296Z",
          "iopub.execute_input": "2021-11-01T08:54:31.083578Z",
          "iopub.status.idle": "2021-11-01T08:54:32.622732Z",
          "shell.execute_reply.started": "2021-11-01T08:54:31.083546Z",
          "shell.execute_reply": "2021-11-01T08:54:32.621896Z"
        },
        "trusted": true
      },
      "source": [
        "# classification report\n",
        "y_pre_16 = vgg16.predict(x_test)\n",
        "y_pre_16 = y_pre_16.argmax(axis=1)\n",
        "print(classification_report(y_test, y_pre_16))"
      ],
      "execution_count": null,
      "outputs": []
    },
    {
      "cell_type": "markdown",
      "metadata": {
        "id": "LJGPD2wN3yCj"
      },
      "source": [
        "**2. Load pretrain model and testing**"
      ]
    },
    {
      "cell_type": "code",
      "metadata": {
        "id": "pyZYYXEDyLcQ",
        "execution": {
          "iopub.status.busy": "2021-11-01T09:03:08.361178Z",
          "iopub.execute_input": "2021-11-01T09:03:08.361645Z",
          "iopub.status.idle": "2021-11-01T09:03:08.814773Z",
          "shell.execute_reply.started": "2021-11-01T09:03:08.361599Z",
          "shell.execute_reply": "2021-11-01T09:03:08.813841Z"
        },
        "trusted": true,
        "colab": {
          "base_uri": "https://localhost:8080/"
        },
        "outputId": "48295ef3-dfc4-4e74-d83b-61e1828dbd5b"
      },
      "source": [
        "# VGG16\n",
        "pretrain_path = './drvie/MyDrive/CS231.M13.KHCL/workingspace/taicv/vgg16-keras-32/best-weights.hdf5'\n",
        "base_vgg16_tuning = VGG16(include_top=False, input_shape=(32, 32, 3))\n",
        "vgg16_tuning = build_model(base_vgg16_tuning)\n",
        "vgg16_tuning.load_weights(pretrain_path)"
      ],
      "execution_count": null,
      "outputs": [
        {
          "output_type": "stream",
          "name": "stdout",
          "text": [
            "Downloading data from https://storage.googleapis.com/tensorflow/keras-applications/vgg16/vgg16_weights_tf_dim_ordering_tf_kernels_notop.h5\n",
            "58892288/58889256 [==============================] - 1s 0us/step\n",
            "58900480/58889256 [==============================] - 1s 0us/step\n"
          ]
        }
      ]
    },
    {
      "cell_type": "code",
      "metadata": {
        "id": "Rm7J3beRClgh",
        "execution": {
          "iopub.status.busy": "2021-11-01T09:03:09.912612Z",
          "iopub.execute_input": "2021-11-01T09:03:09.913356Z",
          "iopub.status.idle": "2021-11-01T09:03:11.431973Z",
          "shell.execute_reply.started": "2021-11-01T09:03:09.913306Z",
          "shell.execute_reply": "2021-11-01T09:03:11.431169Z"
        },
        "trusted": true,
        "colab": {
          "base_uri": "https://localhost:8080/"
        },
        "outputId": "74474a2b-d2cc-4972-d7d1-d3f11d2abcbb"
      },
      "source": [
        "# classification report\n",
        "y_pre_16 = vgg16_tuning.predict(x_test)\n",
        "y_pre_16 = y_pre_16.argmax(axis=1)\n",
        "print(classification_report(y_test, y_pre_16))"
      ],
      "execution_count": null,
      "outputs": [
        {
          "output_type": "stream",
          "name": "stdout",
          "text": [
            "              precision    recall  f1-score   support\n",
            "\n",
            "           0       0.84      0.79      0.81       402\n",
            "           1       0.89      0.89      0.89       397\n",
            "           2       0.77      0.74      0.76       410\n",
            "           3       0.65      0.66      0.66       396\n",
            "           4       0.79      0.76      0.77       411\n",
            "           5       0.81      0.61      0.70       383\n",
            "           6       0.83      0.89      0.86       390\n",
            "           7       0.77      0.88      0.82       398\n",
            "           8       0.83      0.91      0.87       399\n",
            "           9       0.85      0.88      0.87       414\n",
            "\n",
            "    accuracy                           0.80      4000\n",
            "   macro avg       0.80      0.80      0.80      4000\n",
            "weighted avg       0.80      0.80      0.80      4000\n",
            "\n"
          ]
        }
      ]
    },
    {
      "cell_type": "code",
      "metadata": {
        "colab": {
          "base_uri": "https://localhost:8080/",
          "height": 337
        },
        "id": "E6YSCCH1CCOj",
        "outputId": "f06ba38d-83ad-4810-c42a-e3385b144b19"
      },
      "source": [
        "import seaborn as sn\n",
        "import pandas as pd\n",
        "import matplotlib.pyplot as plt\n",
        "from sklearn.metrics import confusion_matrix\n",
        "\n",
        "classes = ('plane', 'car' , 'bird', 'cat', 'deer', 'dog', 'frog', 'horse', 'ship', 'truck')\n",
        "cm = confusion_matrix(y_test, y_pre_16)\n",
        "\n",
        "df_cm = pd.DataFrame(cm, index = [cls for cls in classes],\n",
        "                  columns = [cls for cls in classes])\n",
        "plt.figure(figsize = (10,5))\n",
        "sn.heatmap(df_cm, annot=True, fmt='g')"
      ],
      "execution_count": null,
      "outputs": [
        {
          "output_type": "execute_result",
          "data": {
            "text/plain": [
              "<matplotlib.axes._subplots.AxesSubplot at 0x7f1a2043a710>"
            ]
          },
          "metadata": {},
          "execution_count": 13
        },
        {
          "output_type": "display_data",
          "data": {
            "image/png": "[encoded data removed]",
            "text/plain": [
              "<Figure size 720x360 with 2 Axes>"
            ]
          },
          "metadata": {
            "needs_background": "light"
          }
        }
      ]
    }
  ]
}